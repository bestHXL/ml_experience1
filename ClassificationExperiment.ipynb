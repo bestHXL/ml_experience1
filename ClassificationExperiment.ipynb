{
 "cells": [
  {
   "cell_type": "code",
   "execution_count": 1,
   "metadata": {},
   "outputs": [],
   "source": [
    "from sklearn.model_selection import train_test_split\n",
    "from sklearn.datasets import load_svmlight_file\n",
    "import numpy as np\n",
    "import jupyter\n",
    "import matplotlib"
   ]
  },
  {
   "cell_type": "code",
   "execution_count": 2,
   "metadata": {},
   "outputs": [],
   "source": [
    "def getdata(file):\n",
    "    X, y = load_svmlight_file(file)\n",
    "    X = X.toarray()\n",
    "    X_list = X.tolist()\n",
    "    for x in X_list:\n",
    "        x.append(1.0)\n",
    "    X = np.array(X_list)\n",
    "    y = np.reshape(y,[y.shape[0],1])\n",
    "    X_train, X_test, y_train, y_test = train_test_split(X, y, test_size = 0.2, random_state = 42)\n",
    "    return (X_train, X_test, y_train, y_test)"
   ]
  },
  {
   "cell_type": "code",
   "execution_count": 3,
   "metadata": {},
   "outputs": [],
   "source": [
    "def f(x,w):\n",
    "    sum=0\n",
    "    for i in range(0,14):\n",
    "        sum+=w[i]*x[i]\n",
    "    return sum"
   ]
  },
  {
   "cell_type": "code",
   "execution_count": 4,
   "metadata": {},
   "outputs": [],
   "source": [
    "def loss(y,X,w):\n",
    "    sum=0\n",
    "    for i in range(0,len(y)-1):\n",
    "        sum+=np.square(y[i]-f(X[i],w))\n",
    "    sum = sum/(2*X.shape[0])\n",
    "    return sum"
   ]
  },
  {
   "cell_type": "code",
   "execution_count": 5,
   "metadata": {},
   "outputs": [],
   "source": [
    "def loss_g(X,y,w):\n",
    "    return np.dot(np.dot(X.T,X),w)-np.dot(X.T,y)"
   ]
  },
  {
   "cell_type": "code",
   "execution_count": 6,
   "metadata": {},
   "outputs": [],
   "source": [
    "X_train, X_test, y_train, y_test=getdata(\"australian\")"
   ]
  },
  {
   "cell_type": "code",
   "execution_count": 7,
   "metadata": {},
   "outputs": [],
   "source": [
    "w=np.zeros([15,1])\n",
    "n=0.00001\n",
    "Lt=[]\n",
    "Lv=[]\n",
    "graph_x = []\n",
    "acc=[]"
   ]
  },
  {
   "cell_type": "code",
   "execution_count": 8,
   "metadata": {
    "scrolled": true
   },
   "outputs": [],
   "source": [
    "for i in range(1,500):\n",
    "    graph_x.append(i)\n",
    "    G=loss_g(X_train,y_train,w)\n",
    "    w-=n*G\n",
    "    l_train=loss(y_train,X_train,w)\n",
    "    l_validation=loss(y_test,X_test,w)\n",
    "    Lt.append(l_train)\n",
    "    Lv.append(l_validation)\n",
    "    predict=[]\n",
    "    for j in range(1,len(X_test)):\n",
    "        if f(X_test[j-1],w)>=0.1:\n",
    "            predict.append(1)\n",
    "        else:\n",
    "            predict.append(-1)\n",
    "    sum=0\n",
    "    for j in range(0,len(predict)-1) :\n",
    "        if predict[j]==y_test[j]:\n",
    "            sum=sum+1\n",
    "    acc.append(sum/len(predict)) "
   ]
  },
  {
   "cell_type": "code",
   "execution_count": 9,
   "metadata": {},
   "outputs": [
    {
     "data": {
      "image/png": "[encoded data removed]",
      "text/plain": [
       "<matplotlib.figure.Figure at 0x23fd490a588>"
      ]
     },
     "metadata": {},
     "output_type": "display_data"
    }
   ],
   "source": [
    "from matplotlib import pyplot\n",
    "pyplot.xlabel('times')\n",
    "pyplot.ylabel('loss')\n",
    "pyplot.plot(graph_x,Lt,label=\"L_train\")\n",
    "pyplot.plot(graph_x,Lv,label=\"L_validation\")\n",
    "pyplot.legend(bbox_to_anchor=(1.0, 1), loc=1, borderaxespad=0.)  \n",
    "pyplot.show()"
   ]
  },
  {
   "cell_type": "code",
   "execution_count": 10,
   "metadata": {},
   "outputs": [
    {
     "data": {
      "text/plain": [
       "'for i in range(1,len(X_test)):\\n    if f(X_test[i-1],w)>=0:\\n        predict.append(1)\\n    else:\\n        predict.append(-1)\\nsum=0\\nfor i in range(0,len(predict)) :\\n    if predict[i]==y_test[i]:\\n        sum=sum+1\\nsum/len(predict)\\n    \\n    '"
      ]
     },
     "execution_count": 10,
     "metadata": {},
     "output_type": "execute_result"
    }
   ],
   "source": [
    "'''for i in range(1,len(X_test)):\n",
    "    if f(X_test[i-1],w)>=0:\n",
    "        predict.append(1)\n",
    "    else:\n",
    "        predict.append(-1)\n",
    "sum=0\n",
    "for i in range(0,len(predict)) :\n",
    "    if predict[i]==y_test[i]:\n",
    "        sum=sum+1\n",
    "sum/len(predict)\n",
    "    \n",
    "    '''"
   ]
  },
  {
   "cell_type": "code",
   "execution_count": 11,
   "metadata": {},
   "outputs": [
    {
     "data": {
      "image/png": "[encoded data removed]",
      "text/plain": [
       "<matplotlib.figure.Figure at 0x23fc65766a0>"
      ]
     },
     "metadata": {},
     "output_type": "display_data"
    }
   ],
   "source": [
    "pyplot.plot(graph_x,acc)\n",
    "pyplot.show()"
   ]
  },
  {
   "cell_type": "code",
   "execution_count": 12,
   "metadata": {},
   "outputs": [
    {
     "data": {
      "text/plain": [
       "0.8613138686131386"
      ]
     },
     "execution_count": 12,
     "metadata": {},
     "output_type": "execute_result"
    }
   ],
   "source": [
    "sum=0\n",
    "for i in range(0,len(predict)) :\n",
    "    if predict[i]==y_test[i]:\n",
    "        sum=sum+1\n",
    "sum/len(predict)"
   ]
  },
  {
   "cell_type": "code",
   "execution_count": null,
   "metadata": {},
   "outputs": [],
   "source": []
  }
 ],
 "metadata": {
  "kernelspec": {
   "display_name": "Python 3",
   "language": "python",
   "name": "python3"
  },
  "language_info": {
   "codemirror_mode": {
    "name": "ipython",
    "version": 3
   },
   "file_extension": ".py",
   "mimetype": "text/x-python",
   "name": "python",
   "nbconvert_exporter": "python",
   "pygments_lexer": "ipython3",
   "version": "3.6.3"
  }
 },
 "nbformat": 4,
 "nbformat_minor": 2
}
